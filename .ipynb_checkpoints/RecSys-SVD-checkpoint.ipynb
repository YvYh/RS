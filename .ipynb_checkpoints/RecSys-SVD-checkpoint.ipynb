{
 "cells": [
  {
   "cell_type": "code",
   "execution_count": 1,
   "metadata": {},
   "outputs": [],
   "source": [
    "from sklearn.neighbors import NearestNeighbors\n",
    "import pandas as pd, numpy as np\n",
    "from IPython.display import display, HTML, Markdown, Latex"
   ]
  },
  {
   "cell_type": "code",
   "execution_count": 2,
   "metadata": {},
   "outputs": [
    {
     "data": {
      "text/html": [
       "<div>\n",
       "<style scoped>\n",
       "    .dataframe tbody tr th:only-of-type {\n",
       "        vertical-align: middle;\n",
       "    }\n",
       "\n",
       "    .dataframe tbody tr th {\n",
       "        vertical-align: top;\n",
       "    }\n",
       "\n",
       "    .dataframe thead th {\n",
       "        text-align: right;\n",
       "    }\n",
       "</style>\n",
       "<table border=\"1\" class=\"dataframe\">\n",
       "  <thead>\n",
       "    <tr style=\"text-align: right;\">\n",
       "      <th>itemID</th>\n",
       "      <th>Item1</th>\n",
       "      <th>Item2</th>\n",
       "      <th>Item3</th>\n",
       "      <th>Item4</th>\n",
       "      <th>Item5</th>\n",
       "    </tr>\n",
       "    <tr>\n",
       "      <th>userID</th>\n",
       "      <th></th>\n",
       "      <th></th>\n",
       "      <th></th>\n",
       "      <th></th>\n",
       "      <th></th>\n",
       "    </tr>\n",
       "  </thead>\n",
       "  <tbody>\n",
       "    <tr>\n",
       "      <th>Alice</th>\n",
       "      <td>5.0</td>\n",
       "      <td>3.0</td>\n",
       "      <td>4.0</td>\n",
       "      <td>4.0</td>\n",
       "      <td>NaN</td>\n",
       "    </tr>\n",
       "    <tr>\n",
       "      <th>User1</th>\n",
       "      <td>3.0</td>\n",
       "      <td>1.0</td>\n",
       "      <td>2.0</td>\n",
       "      <td>3.0</td>\n",
       "      <td>3.0</td>\n",
       "    </tr>\n",
       "    <tr>\n",
       "      <th>User2</th>\n",
       "      <td>4.0</td>\n",
       "      <td>3.0</td>\n",
       "      <td>4.0</td>\n",
       "      <td>3.0</td>\n",
       "      <td>5.0</td>\n",
       "    </tr>\n",
       "    <tr>\n",
       "      <th>User3</th>\n",
       "      <td>3.0</td>\n",
       "      <td>3.0</td>\n",
       "      <td>1.0</td>\n",
       "      <td>5.0</td>\n",
       "      <td>4.0</td>\n",
       "    </tr>\n",
       "    <tr>\n",
       "      <th>User4</th>\n",
       "      <td>1.0</td>\n",
       "      <td>5.0</td>\n",
       "      <td>5.0</td>\n",
       "      <td>2.0</td>\n",
       "      <td>1.0</td>\n",
       "    </tr>\n",
       "  </tbody>\n",
       "</table>\n",
       "</div>"
      ],
      "text/plain": [
       "itemID  Item1  Item2  Item3  Item4  Item5\n",
       "userID                                   \n",
       "Alice     5.0    3.0    4.0    4.0    NaN\n",
       "User1     3.0    1.0    2.0    3.0    3.0\n",
       "User2     4.0    3.0    4.0    3.0    5.0\n",
       "User3     3.0    3.0    1.0    5.0    4.0\n",
       "User4     1.0    5.0    5.0    2.0    1.0"
      ]
     },
     "metadata": {},
     "output_type": "display_data"
    }
   ],
   "source": [
    "# df = pd.read_excel(\"c:/recsys/materials/alice.xlsx\", index_col='Name').astype(float)\n",
    "ex ={'Item1': {'Alice': 5.0,    'User1': 3.0, 'User2': 4.0, 'User3': 3.0, 'User4': 1.0},\n",
    "     'Item2': {'Alice': 3.0,    'User1': 1.0, 'User2': 3.0, 'User3': 3.0, 'User4': 5.0},\n",
    "     'Item3': {'Alice': 4.0,    'User1': 2.0, 'User2': 4.0, 'User3': 1.0, 'User4': 5.0},\n",
    "     'Item4': {'Alice': 4.0,    'User1': 3.0, 'User2': 3.0, 'User3': 5.0, 'User4': 2.0},\n",
    "     'Item5': {'Alice': np.nan, 'User1': 3.0, 'User2': 5.0, 'User3': 4.0, 'User4': 1.0},\n",
    "}\n",
    "df = pd.DataFrame(ex)\n",
    "df.index.name, df.columns.name = 'userID', 'itemID'\n",
    "\n",
    "#df.loc['Alice','Item1'] = np.nan\n",
    "\n",
    "means = df.mean(axis=1)\n",
    "cent  = df.sub( means, axis=0 )\n",
    "\n",
    "display( df )\n"
   ]
  },
  {
   "cell_type": "markdown",
   "metadata": {},
   "source": [
    "### Sparse matrix factorization with *randomized SVD*\n",
    "\n",
    "1. Input: *centered* matrix, number of components, (optional) number of iterations and random seed (advisable)\n",
    "2. Input must be converted to sparse matrix format: `cent.to_sparse().to_coo().tocsc()`"
   ]
  },
  {
   "cell_type": "code",
   "execution_count": 4,
   "metadata": {},
   "outputs": [
    {
     "data": {
      "text/html": [
       "<div>\n",
       "<style scoped>\n",
       "    .dataframe tbody tr th:only-of-type {\n",
       "        vertical-align: middle;\n",
       "    }\n",
       "\n",
       "    .dataframe tbody tr th {\n",
       "        vertical-align: top;\n",
       "    }\n",
       "\n",
       "    .dataframe thead th {\n",
       "        text-align: right;\n",
       "    }\n",
       "</style>\n",
       "<table border=\"1\" class=\"dataframe\">\n",
       "  <thead>\n",
       "    <tr style=\"text-align: right;\">\n",
       "      <th></th>\n",
       "      <th>0</th>\n",
       "      <th>1</th>\n",
       "      <th>2</th>\n",
       "    </tr>\n",
       "    <tr>\n",
       "      <th>userID</th>\n",
       "      <th></th>\n",
       "      <th></th>\n",
       "      <th></th>\n",
       "    </tr>\n",
       "  </thead>\n",
       "  <tbody>\n",
       "    <tr>\n",
       "      <th>Alice</th>\n",
       "      <td>-0.174861</td>\n",
       "      <td>-0.341170</td>\n",
       "      <td>-0.555705</td>\n",
       "    </tr>\n",
       "    <tr>\n",
       "      <th>User1</th>\n",
       "      <td>-0.322239</td>\n",
       "      <td>-0.177994</td>\n",
       "      <td>-0.239617</td>\n",
       "    </tr>\n",
       "    <tr>\n",
       "      <th>User2</th>\n",
       "      <td>-0.129507</td>\n",
       "      <td>-0.468780</td>\n",
       "      <td>0.777465</td>\n",
       "    </tr>\n",
       "    <tr>\n",
       "      <th>User3</th>\n",
       "      <td>-0.436334</td>\n",
       "      <td>0.770703</td>\n",
       "      <td>0.171239</td>\n",
       "    </tr>\n",
       "    <tr>\n",
       "      <th>User4</th>\n",
       "      <td>0.811434</td>\n",
       "      <td>0.195407</td>\n",
       "      <td>0.001257</td>\n",
       "    </tr>\n",
       "  </tbody>\n",
       "</table>\n",
       "</div>"
      ],
      "text/plain": [
       "               0         1         2\n",
       "userID                              \n",
       "Alice  -0.174861 -0.341170 -0.555705\n",
       "User1  -0.322239 -0.177994 -0.239617\n",
       "User2  -0.129507 -0.468780  0.777465\n",
       "User3  -0.436334  0.770703  0.171239\n",
       "User4   0.811434  0.195407  0.001257"
      ]
     },
     "metadata": {},
     "output_type": "display_data"
    },
    {
     "data": {
      "text/plain": [
       "array([4.9988044 , 2.59007561, 1.21341448])"
      ]
     },
     "metadata": {},
     "output_type": "display_data"
    },
    {
     "data": {
      "text/html": [
       "<div>\n",
       "<style scoped>\n",
       "    .dataframe tbody tr th:only-of-type {\n",
       "        vertical-align: middle;\n",
       "    }\n",
       "\n",
       "    .dataframe tbody tr th {\n",
       "        vertical-align: top;\n",
       "    }\n",
       "\n",
       "    .dataframe thead th {\n",
       "        text-align: right;\n",
       "    }\n",
       "</style>\n",
       "<table border=\"1\" class=\"dataframe\">\n",
       "  <thead>\n",
       "    <tr style=\"text-align: right;\">\n",
       "      <th>itemID</th>\n",
       "      <th>Item1</th>\n",
       "      <th>Item2</th>\n",
       "      <th>Item3</th>\n",
       "      <th>Item4</th>\n",
       "      <th>Item5</th>\n",
       "    </tr>\n",
       "  </thead>\n",
       "  <tbody>\n",
       "    <tr>\n",
       "      <th>0</th>\n",
       "      <td>-0.353569</td>\n",
       "      <td>0.520529</td>\n",
       "      <td>0.569753</td>\n",
       "      <td>-0.304930</td>\n",
       "      <td>-0.431784</td>\n",
       "    </tr>\n",
       "    <tr>\n",
       "      <th>1</th>\n",
       "      <td>-0.404465</td>\n",
       "      <td>0.479190</td>\n",
       "      <td>-0.497364</td>\n",
       "      <td>0.578812</td>\n",
       "      <td>-0.156174</td>\n",
       "    </tr>\n",
       "    <tr>\n",
       "      <th>2</th>\n",
       "      <td>-0.478396</td>\n",
       "      <td>0.195905</td>\n",
       "      <td>-0.101055</td>\n",
       "      <td>-0.377873</td>\n",
       "      <td>0.761419</td>\n",
       "    </tr>\n",
       "  </tbody>\n",
       "</table>\n",
       "</div>"
      ],
      "text/plain": [
       "itemID     Item1     Item2     Item3     Item4     Item5\n",
       "0      -0.353569  0.520529  0.569753 -0.304930 -0.431784\n",
       "1      -0.404465  0.479190 -0.497364  0.578812 -0.156174\n",
       "2      -0.478396  0.195905 -0.101055 -0.377873  0.761419"
      ]
     },
     "metadata": {},
     "output_type": "display_data"
    },
    {
     "ename": "TypeError",
     "evalue": "unsupported operand type(s) for @: 'DataFrame' and 'DataFrame'",
     "output_type": "error",
     "traceback": [
      "\u001b[0;31m---------------------------------------------------------------------------\u001b[0m",
      "\u001b[0;31mTypeError\u001b[0m                                 Traceback (most recent call last)",
      "\u001b[0;32m<ipython-input-4-0ce61f89304a>\u001b[0m in \u001b[0;36m<module>\u001b[0;34m()\u001b[0m\n\u001b[1;32m      9\u001b[0m \u001b[0;34m\u001b[0m\u001b[0m\n\u001b[1;32m     10\u001b[0m \u001b[0mfull1\u001b[0m \u001b[0;34m=\u001b[0m \u001b[0mU\u001b[0m\u001b[0;34m.\u001b[0m\u001b[0mmul\u001b[0m\u001b[0;34m(\u001b[0m\u001b[0mSigma\u001b[0m\u001b[0;34m)\u001b[0m\u001b[0;34m.\u001b[0m\u001b[0mdot\u001b[0m\u001b[0;34m(\u001b[0m\u001b[0mVT\u001b[0m\u001b[0;34m)\u001b[0m\u001b[0;34m.\u001b[0m\u001b[0madd\u001b[0m\u001b[0;34m(\u001b[0m\u001b[0mmeans\u001b[0m\u001b[0;34m,\u001b[0m \u001b[0maxis\u001b[0m\u001b[0;34m=\u001b[0m\u001b[0;36m0\u001b[0m\u001b[0;34m)\u001b[0m\u001b[0;34m\u001b[0m\u001b[0m\n\u001b[0;32m---> 11\u001b[0;31m \u001b[0mfull2\u001b[0m \u001b[0;34m=\u001b[0m \u001b[0;34m(\u001b[0m\u001b[0mU\u001b[0m \u001b[0;34m*\u001b[0m \u001b[0mSigma\u001b[0m \u001b[0;34m@\u001b[0m \u001b[0mVT\u001b[0m\u001b[0;34m)\u001b[0m\u001b[0;34m.\u001b[0m\u001b[0madd\u001b[0m\u001b[0;34m(\u001b[0m\u001b[0mmeans\u001b[0m\u001b[0;34m,\u001b[0m \u001b[0maxis\u001b[0m\u001b[0;34m=\u001b[0m\u001b[0;36m0\u001b[0m\u001b[0;34m)\u001b[0m\u001b[0;34m\u001b[0m\u001b[0m\n\u001b[0m\u001b[1;32m     12\u001b[0m \u001b[0mdisplay\u001b[0m\u001b[0;34m(\u001b[0m \u001b[0mfull1\u001b[0m\u001b[0;34m,\u001b[0m \u001b[0mfull2\u001b[0m \u001b[0;34m)\u001b[0m\u001b[0;34m\u001b[0m\u001b[0m\n",
      "\u001b[0;31mTypeError\u001b[0m: unsupported operand type(s) for @: 'DataFrame' and 'DataFrame'"
     ]
    }
   ],
   "source": [
    "from sklearn.utils.extmath import randomized_svd\n",
    "\n",
    "U_, Sigma, VT_ = randomized_svd(cent.to_sparse().to_coo().tocsc(), n_components=3, n_iter=5, random_state=1234)\n",
    "\n",
    "\n",
    "U = pd.DataFrame(U_, index=cent.index)\n",
    "VT = pd.DataFrame(VT_, columns=cent.columns)\n",
    "\n",
    "display(U, Sigma, VT)\n",
    "\n",
    "full1 = U.mul(Sigma).dot(VT).add(means, axis=0)\n",
    "full2 = (U * Sigma @ VT).add(means, axis=0)\n",
    "display( full1, full2 )"
   ]
  },
  {
   "cell_type": "markdown",
   "metadata": {},
   "source": [
    "### Sparse matrix factorization with *sparse SVD* (add-on module)\n",
    "\n",
    "1. Input: *centered* matrix, number of components\n",
    "2. Input must be converted to sparse matrix format: `cent.to_sparse().to_coo().tocsc()`"
   ]
  },
  {
   "cell_type": "code",
   "execution_count": 268,
   "metadata": {},
   "outputs": [
    {
     "data": {
      "text/html": [
       "<div>\n",
       "<style scoped>\n",
       "    .dataframe tbody tr th:only-of-type {\n",
       "        vertical-align: middle;\n",
       "    }\n",
       "\n",
       "    .dataframe tbody tr th {\n",
       "        vertical-align: top;\n",
       "    }\n",
       "\n",
       "    .dataframe thead th {\n",
       "        text-align: right;\n",
       "    }\n",
       "</style>\n",
       "<table border=\"1\" class=\"dataframe\">\n",
       "  <thead>\n",
       "    <tr style=\"text-align: right;\">\n",
       "      <th></th>\n",
       "      <th>0</th>\n",
       "      <th>1</th>\n",
       "    </tr>\n",
       "    <tr>\n",
       "      <th>userID</th>\n",
       "      <th></th>\n",
       "      <th></th>\n",
       "    </tr>\n",
       "  </thead>\n",
       "  <tbody>\n",
       "    <tr>\n",
       "      <th>Alice</th>\n",
       "      <td>-0.174861</td>\n",
       "      <td>0.341170</td>\n",
       "    </tr>\n",
       "    <tr>\n",
       "      <th>User1</th>\n",
       "      <td>-0.322239</td>\n",
       "      <td>0.177994</td>\n",
       "    </tr>\n",
       "    <tr>\n",
       "      <th>User2</th>\n",
       "      <td>-0.129507</td>\n",
       "      <td>0.468780</td>\n",
       "    </tr>\n",
       "    <tr>\n",
       "      <th>User3</th>\n",
       "      <td>-0.436334</td>\n",
       "      <td>-0.770703</td>\n",
       "    </tr>\n",
       "    <tr>\n",
       "      <th>User4</th>\n",
       "      <td>0.811434</td>\n",
       "      <td>-0.195407</td>\n",
       "    </tr>\n",
       "  </tbody>\n",
       "</table>\n",
       "</div>"
      ],
      "text/plain": [
       "               0         1\n",
       "userID                    \n",
       "Alice  -0.174861  0.341170\n",
       "User1  -0.322239  0.177994\n",
       "User2  -0.129507  0.468780\n",
       "User3  -0.436334 -0.770703\n",
       "User4   0.811434 -0.195407"
      ]
     },
     "metadata": {},
     "output_type": "display_data"
    },
    {
     "data": {
      "text/plain": [
       "array([4.9988044 , 2.59007561])"
      ]
     },
     "metadata": {},
     "output_type": "display_data"
    },
    {
     "data": {
      "text/html": [
       "<div>\n",
       "<style scoped>\n",
       "    .dataframe tbody tr th:only-of-type {\n",
       "        vertical-align: middle;\n",
       "    }\n",
       "\n",
       "    .dataframe tbody tr th {\n",
       "        vertical-align: top;\n",
       "    }\n",
       "\n",
       "    .dataframe thead th {\n",
       "        text-align: right;\n",
       "    }\n",
       "</style>\n",
       "<table border=\"1\" class=\"dataframe\">\n",
       "  <thead>\n",
       "    <tr style=\"text-align: right;\">\n",
       "      <th>itemID</th>\n",
       "      <th>Item1</th>\n",
       "      <th>Item2</th>\n",
       "      <th>Item3</th>\n",
       "      <th>Item4</th>\n",
       "      <th>Item5</th>\n",
       "    </tr>\n",
       "  </thead>\n",
       "  <tbody>\n",
       "    <tr>\n",
       "      <th>0</th>\n",
       "      <td>-0.353569</td>\n",
       "      <td>0.520529</td>\n",
       "      <td>0.569753</td>\n",
       "      <td>-0.304930</td>\n",
       "      <td>-0.431784</td>\n",
       "    </tr>\n",
       "    <tr>\n",
       "      <th>1</th>\n",
       "      <td>0.404465</td>\n",
       "      <td>-0.479190</td>\n",
       "      <td>0.497364</td>\n",
       "      <td>-0.578812</td>\n",
       "      <td>0.156174</td>\n",
       "    </tr>\n",
       "  </tbody>\n",
       "</table>\n",
       "</div>"
      ],
      "text/plain": [
       "itemID     Item1     Item2     Item3     Item4     Item5\n",
       "0      -0.353569  0.520529  0.569753 -0.304930 -0.431784\n",
       "1       0.404465 -0.479190  0.497364 -0.578812  0.156174"
      ]
     },
     "metadata": {},
     "output_type": "display_data"
    },
    {
     "data": {
      "text/html": [
       "<div>\n",
       "<style scoped>\n",
       "    .dataframe tbody tr th:only-of-type {\n",
       "        vertical-align: middle;\n",
       "    }\n",
       "\n",
       "    .dataframe tbody tr th {\n",
       "        vertical-align: top;\n",
       "    }\n",
       "\n",
       "    .dataframe thead th {\n",
       "        text-align: right;\n",
       "    }\n",
       "</style>\n",
       "<table border=\"1\" class=\"dataframe\">\n",
       "  <thead>\n",
       "    <tr style=\"text-align: right;\">\n",
       "      <th>itemID</th>\n",
       "      <th>Item1</th>\n",
       "      <th>Item2</th>\n",
       "      <th>Item3</th>\n",
       "      <th>Item4</th>\n",
       "      <th>Item5</th>\n",
       "    </tr>\n",
       "    <tr>\n",
       "      <th>userID</th>\n",
       "      <th></th>\n",
       "      <th></th>\n",
       "      <th></th>\n",
       "      <th></th>\n",
       "      <th></th>\n",
       "    </tr>\n",
       "  </thead>\n",
       "  <tbody>\n",
       "    <tr>\n",
       "      <th>Alice</th>\n",
       "      <td>4.666461</td>\n",
       "      <td>3.121567</td>\n",
       "      <td>3.941478</td>\n",
       "      <td>3.755069</td>\n",
       "      <td>4.515425</td>\n",
       "    </tr>\n",
       "    <tr>\n",
       "      <th>User1</th>\n",
       "      <td>3.155998</td>\n",
       "      <td>1.340610</td>\n",
       "      <td>1.711528</td>\n",
       "      <td>2.624343</td>\n",
       "      <td>3.167521</td>\n",
       "    </tr>\n",
       "    <tr>\n",
       "      <th>User2</th>\n",
       "      <td>4.519986</td>\n",
       "      <td>2.881197</td>\n",
       "      <td>4.035039</td>\n",
       "      <td>3.294626</td>\n",
       "      <td>4.269152</td>\n",
       "    </tr>\n",
       "    <tr>\n",
       "      <th>User3</th>\n",
       "      <td>3.163803</td>\n",
       "      <td>3.021196</td>\n",
       "      <td>0.964455</td>\n",
       "      <td>5.020512</td>\n",
       "      <td>3.830034</td>\n",
       "    </tr>\n",
       "    <tr>\n",
       "      <th>User4</th>\n",
       "      <td>1.161147</td>\n",
       "      <td>5.153898</td>\n",
       "      <td>4.859308</td>\n",
       "      <td>1.856089</td>\n",
       "      <td>0.969557</td>\n",
       "    </tr>\n",
       "  </tbody>\n",
       "</table>\n",
       "</div>"
      ],
      "text/plain": [
       "itemID     Item1     Item2     Item3     Item4     Item5\n",
       "userID                                                  \n",
       "Alice   4.666461  3.121567  3.941478  3.755069  4.515425\n",
       "User1   3.155998  1.340610  1.711528  2.624343  3.167521\n",
       "User2   4.519986  2.881197  4.035039  3.294626  4.269152\n",
       "User3   3.163803  3.021196  0.964455  5.020512  3.830034\n",
       "User4   1.161147  5.153898  4.859308  1.856089  0.969557"
      ]
     },
     "metadata": {},
     "output_type": "display_data"
    },
    {
     "data": {
      "text/html": [
       "<div>\n",
       "<style scoped>\n",
       "    .dataframe tbody tr th:only-of-type {\n",
       "        vertical-align: middle;\n",
       "    }\n",
       "\n",
       "    .dataframe tbody tr th {\n",
       "        vertical-align: top;\n",
       "    }\n",
       "\n",
       "    .dataframe thead th {\n",
       "        text-align: right;\n",
       "    }\n",
       "</style>\n",
       "<table border=\"1\" class=\"dataframe\">\n",
       "  <thead>\n",
       "    <tr style=\"text-align: right;\">\n",
       "      <th>itemID</th>\n",
       "      <th>Item1</th>\n",
       "      <th>Item2</th>\n",
       "      <th>Item3</th>\n",
       "      <th>Item4</th>\n",
       "      <th>Item5</th>\n",
       "    </tr>\n",
       "    <tr>\n",
       "      <th>userID</th>\n",
       "      <th></th>\n",
       "      <th></th>\n",
       "      <th></th>\n",
       "      <th></th>\n",
       "      <th></th>\n",
       "    </tr>\n",
       "  </thead>\n",
       "  <tbody>\n",
       "    <tr>\n",
       "      <th>Alice</th>\n",
       "      <td>4.666461</td>\n",
       "      <td>3.121567</td>\n",
       "      <td>3.941478</td>\n",
       "      <td>3.755069</td>\n",
       "      <td>4.515425</td>\n",
       "    </tr>\n",
       "    <tr>\n",
       "      <th>User1</th>\n",
       "      <td>3.155998</td>\n",
       "      <td>1.340610</td>\n",
       "      <td>1.711528</td>\n",
       "      <td>2.624343</td>\n",
       "      <td>3.167521</td>\n",
       "    </tr>\n",
       "    <tr>\n",
       "      <th>User2</th>\n",
       "      <td>4.519986</td>\n",
       "      <td>2.881197</td>\n",
       "      <td>4.035039</td>\n",
       "      <td>3.294626</td>\n",
       "      <td>4.269152</td>\n",
       "    </tr>\n",
       "    <tr>\n",
       "      <th>User3</th>\n",
       "      <td>3.163803</td>\n",
       "      <td>3.021196</td>\n",
       "      <td>0.964455</td>\n",
       "      <td>5.020512</td>\n",
       "      <td>3.830034</td>\n",
       "    </tr>\n",
       "    <tr>\n",
       "      <th>User4</th>\n",
       "      <td>1.161147</td>\n",
       "      <td>5.153898</td>\n",
       "      <td>4.859308</td>\n",
       "      <td>1.856089</td>\n",
       "      <td>0.969557</td>\n",
       "    </tr>\n",
       "  </tbody>\n",
       "</table>\n",
       "</div>"
      ],
      "text/plain": [
       "itemID     Item1     Item2     Item3     Item4     Item5\n",
       "userID                                                  \n",
       "Alice   4.666461  3.121567  3.941478  3.755069  4.515425\n",
       "User1   3.155998  1.340610  1.711528  2.624343  3.167521\n",
       "User2   4.519986  2.881197  4.035039  3.294626  4.269152\n",
       "User3   3.163803  3.021196  0.964455  5.020512  3.830034\n",
       "User4   1.161147  5.153898  4.859308  1.856089  0.969557"
      ]
     },
     "metadata": {},
     "output_type": "display_data"
    }
   ],
   "source": [
    "from sparsesvd import sparsesvd\n",
    "U_, Sigma, VT_ = sparsesvd( cent.to_sparse().to_coo().tocsc(), 2 )\n",
    "\n",
    "U = pd.DataFrame(U_.T, index=cent.index)\n",
    "VT = pd.DataFrame(VT_, columns=cent.columns)\n",
    "\n",
    "display(U, Sigma, VT)\n",
    "\n",
    "full1 = U.mul(Sigma).dot(VT).add(means, axis=0)\n",
    "full2 = (U * Sigma @ VT).add(means, axis=0)\n",
    "display( full1, full2 )"
   ]
  },
  {
   "cell_type": "markdown",
   "metadata": {},
   "source": [
    "#### Regardless of randomized SVM or sparse SVM, we use the factorized matrices as follows"
   ]
  },
  {
   "cell_type": "code",
   "execution_count": 284,
   "metadata": {},
   "outputs": [
    {
     "data": {
      "text/html": [
       "<div>\n",
       "<style scoped>\n",
       "    .dataframe tbody tr th:only-of-type {\n",
       "        vertical-align: middle;\n",
       "    }\n",
       "\n",
       "    .dataframe tbody tr th {\n",
       "        vertical-align: top;\n",
       "    }\n",
       "\n",
       "    .dataframe thead th {\n",
       "        text-align: right;\n",
       "    }\n",
       "</style>\n",
       "<table border=\"1\" class=\"dataframe\">\n",
       "  <thead>\n",
       "    <tr style=\"text-align: right;\">\n",
       "      <th>itemID</th>\n",
       "      <th>Item1</th>\n",
       "      <th>Item2</th>\n",
       "      <th>Item3</th>\n",
       "      <th>Item4</th>\n",
       "      <th>Item5</th>\n",
       "    </tr>\n",
       "    <tr>\n",
       "      <th>userID</th>\n",
       "      <th></th>\n",
       "      <th></th>\n",
       "      <th></th>\n",
       "      <th></th>\n",
       "      <th></th>\n",
       "    </tr>\n",
       "  </thead>\n",
       "  <tbody>\n",
       "    <tr>\n",
       "      <th>Alice</th>\n",
       "      <td>4.666461</td>\n",
       "      <td>3.121567</td>\n",
       "      <td>3.941478</td>\n",
       "      <td>3.755069</td>\n",
       "      <td>4.515425</td>\n",
       "    </tr>\n",
       "    <tr>\n",
       "      <th>User1</th>\n",
       "      <td>3.155998</td>\n",
       "      <td>1.340610</td>\n",
       "      <td>1.711528</td>\n",
       "      <td>2.624343</td>\n",
       "      <td>3.167521</td>\n",
       "    </tr>\n",
       "    <tr>\n",
       "      <th>User2</th>\n",
       "      <td>4.519986</td>\n",
       "      <td>2.881197</td>\n",
       "      <td>4.035039</td>\n",
       "      <td>3.294626</td>\n",
       "      <td>4.269152</td>\n",
       "    </tr>\n",
       "    <tr>\n",
       "      <th>User3</th>\n",
       "      <td>3.163803</td>\n",
       "      <td>3.021196</td>\n",
       "      <td>0.964455</td>\n",
       "      <td>5.020512</td>\n",
       "      <td>3.830034</td>\n",
       "    </tr>\n",
       "    <tr>\n",
       "      <th>User4</th>\n",
       "      <td>1.161147</td>\n",
       "      <td>5.153898</td>\n",
       "      <td>4.859308</td>\n",
       "      <td>1.856089</td>\n",
       "      <td>0.969557</td>\n",
       "    </tr>\n",
       "  </tbody>\n",
       "</table>\n",
       "</div>"
      ],
      "text/plain": [
       "itemID     Item1     Item2     Item3     Item4     Item5\n",
       "userID                                                  \n",
       "Alice   4.666461  3.121567  3.941478  3.755069  4.515425\n",
       "User1   3.155998  1.340610  1.711528  2.624343  3.167521\n",
       "User2   4.519986  2.881197  4.035039  3.294626  4.269152\n",
       "User3   3.163803  3.021196  0.964455  5.020512  3.830034\n",
       "User4   1.161147  5.153898  4.859308  1.856089  0.969557"
      ]
     },
     "metadata": {},
     "output_type": "display_data"
    },
    {
     "data": {
      "text/plain": [
       "itemID\n",
       "Item1    4.666461\n",
       "Item2    3.121567\n",
       "Item3    3.941478\n",
       "Item4    3.755069\n",
       "Item5    4.515425\n",
       "Name: Alice, dtype: float64"
      ]
     },
     "metadata": {},
     "output_type": "display_data"
    },
    {
     "data": {
      "text/plain": [
       "4.51542515155701"
      ]
     },
     "metadata": {},
     "output_type": "display_data"
    }
   ],
   "source": [
    "# Predict all ratings for all items\n",
    "display( (U * Sigma @ VT).add(means, axis=0) )\n",
    "\n",
    "# Predict all ratings for Alice\n",
    "display( U.loc['Alice'] * Sigma @ VT + means['Alice'] )\n",
    "\n",
    "# Predict the rating of Alice for Item5\n",
    "display( U.loc['Alice'] * Sigma @ VT['Item5'] + means['Alice'] )"
   ]
  },
  {
   "cell_type": "markdown",
   "metadata": {},
   "source": [
    "--------------\n",
    "--------------\n",
    "--------------\n",
    "--------------\n",
    "# Experimental\n",
    "\n",
    "--------------\n",
    "--------------\n",
    "--------------\n",
    "--------------\n"
   ]
  },
  {
   "cell_type": "code",
   "execution_count": 8,
   "metadata": {},
   "outputs": [
    {
     "data": {
      "text/plain": [
       "<5x5 sparse matrix of type '<class 'numpy.float64'>'\n",
       "\twith 24 stored elements in Compressed Sparse Row format>"
      ]
     },
     "execution_count": 8,
     "metadata": {},
     "output_type": "execute_result"
    }
   ],
   "source": [
    "ex ={'Item1': {'Alice': 5.0, 'User1': 3.0, 'User2': 4.0, 'User3': 3.0, 'User4': 1.0},\n",
    "     'Item2': {'Alice': 3.0, 'User1': 1.0, 'User2': 3.0, 'User3': 3.0, 'User4': 5.0},\n",
    "     'Item3': {'Alice': 4.0, 'User1': 2.0, 'User2': 4.0, 'User3': 1.0, 'User4': 5.0},\n",
    "     'Item4': {'Alice': 4.0, 'User1': 3.0, 'User2': 3.0, 'User3': 5.0, 'User4': 2.0},\n",
    "     'Item5': {              'User1': 3.0, 'User2': 5.0, 'User3': 4.0, 'User4': 1.0},\n",
    "}\n",
    "# Dense data frame\n",
    "adf = pd.DataFrame(ex); adf.index.name = 'User'\n",
    "# Centered data frame\n",
    "cdf = adf.sub( adf.mean(axis=1), axis=0 )\n",
    "# Sparse data frame\n",
    "sdf = cdf.to_sparse()\n",
    "# Sparse scipy matrix\n",
    "ratings = sdf.to_sparse().to_coo().tocsr()\n",
    "ratings"
   ]
  },
  {
   "cell_type": "code",
   "execution_count": 54,
   "metadata": {},
   "outputs": [
    {
     "data": {
      "text/html": [
       "<div>\n",
       "<style>\n",
       "    .dataframe thead tr:only-child th {\n",
       "        text-align: right;\n",
       "    }\n",
       "\n",
       "    .dataframe thead th {\n",
       "        text-align: left;\n",
       "    }\n",
       "\n",
       "    .dataframe tbody tr th {\n",
       "        vertical-align: top;\n",
       "    }\n",
       "</style>\n",
       "<table border=\"1\" class=\"dataframe\">\n",
       "  <thead>\n",
       "    <tr style=\"text-align: right;\">\n",
       "      <th>User</th>\n",
       "      <th>User1</th>\n",
       "      <th>User2</th>\n",
       "      <th>User3</th>\n",
       "      <th>User4</th>\n",
       "    </tr>\n",
       "    <tr>\n",
       "      <th>Item</th>\n",
       "      <th></th>\n",
       "      <th></th>\n",
       "      <th></th>\n",
       "      <th></th>\n",
       "    </tr>\n",
       "  </thead>\n",
       "  <tbody>\n",
       "    <tr>\n",
       "      <th>Item1</th>\n",
       "      <td>3.0</td>\n",
       "      <td>4.0</td>\n",
       "      <td>3.0</td>\n",
       "      <td>1.0</td>\n",
       "    </tr>\n",
       "    <tr>\n",
       "      <th>Item2</th>\n",
       "      <td>1.0</td>\n",
       "      <td>3.0</td>\n",
       "      <td>2.0</td>\n",
       "      <td>6.0</td>\n",
       "    </tr>\n",
       "    <tr>\n",
       "      <th>Item3</th>\n",
       "      <td>2.0</td>\n",
       "      <td>4.0</td>\n",
       "      <td>1.0</td>\n",
       "      <td>5.0</td>\n",
       "    </tr>\n",
       "    <tr>\n",
       "      <th>Item4</th>\n",
       "      <td>3.0</td>\n",
       "      <td>3.0</td>\n",
       "      <td>5.0</td>\n",
       "      <td>2.0</td>\n",
       "    </tr>\n",
       "  </tbody>\n",
       "</table>\n",
       "</div>"
      ],
      "text/plain": [
       "User   User1  User2  User3  User4\n",
       "Item                             \n",
       "Item1    3.0    4.0    3.0    1.0\n",
       "Item2    1.0    3.0    2.0    6.0\n",
       "Item3    2.0    4.0    1.0    5.0\n",
       "Item4    3.0    3.0    5.0    2.0"
      ]
     },
     "execution_count": 54,
     "metadata": {},
     "output_type": "execute_result"
    }
   ],
   "source": [
    "svx={'Item1': { 'User1': 3.0, 'User2': 4.0, 'User3': 3.0, 'User4': 1.0},\n",
    "     'Item2': { 'User1': 1.0, 'User2': 3.0, 'User3': 2.0, 'User4': 6.0},\n",
    "     'Item3': { 'User1': 2.0, 'User2': 4.0, 'User3': 1.0, 'User4': 5.0},\n",
    "     'Item4': { 'User1': 3.0, 'User2': 3.0, 'User3': 5.0, 'User4': 2.0},\n",
    "}\n",
    "# Dense data frame\n",
    "dfx = pd.DataFrame(svx).T; dfx.columns.name = 'User'; dfx.index.name= 'Item'\n",
    "# Centered data frame\n",
    "#cdf = adf.sub( adf.mean(axis=1), axis=0 )\n",
    "# Sparse data frame\n",
    "#sdf = cdf.to_sparse()\n",
    "# Sparse scipy matrix\n",
    "#ratings = sdf.to_sparse().to_coo().tocsr()\n",
    "dfx"
   ]
  },
  {
   "cell_type": "markdown",
   "metadata": {},
   "source": [
    "# Matrix factorization"
   ]
  },
  {
   "cell_type": "code",
   "execution_count": 57,
   "metadata": {},
   "outputs": [],
   "source": [
    "ratings = dfx.to_sparse().to_coo()"
   ]
  },
  {
   "cell_type": "code",
   "execution_count": 110,
   "metadata": {},
   "outputs": [
    {
     "data": {
      "text/plain": [
       "array([[ 0.43124523,  0.49315012],\n",
       "       [ 0.53273754, -0.53052572],\n",
       "       [ 0.52374556, -0.40520071],\n",
       "       [ 0.50587435,  0.5578152 ]])"
      ]
     },
     "metadata": {},
     "output_type": "display_data"
    },
    {
     "data": {
      "text/plain": [
       "array([ 12.22151125,   4.92815942])"
      ]
     },
     "metadata": {},
     "output_type": "display_data"
    },
    {
     "data": {
      "text/plain": [
       "array([[ 0.3593326 ,  0.56750746,  0.4428526 ,  0.59388293],\n",
       "       [ 0.36767659,  0.08799758,  0.56862492, -0.73057242]])"
      ]
     },
     "metadata": {},
     "output_type": "display_data"
    },
    {
     "data": {
      "text/plain": [
       "array([[ 2.78742375,  3.20489262,  3.71598251,  1.3545147 ],\n",
       "       [ 1.37826736,  3.46488934,  1.39667175,  5.77678012],\n",
       "       [ 1.56586336,  3.45687205,  1.69919932,  5.26029771],\n",
       "       [ 3.23233518,  3.75054826,  4.30110911,  1.66336515]])"
      ]
     },
     "execution_count": 110,
     "metadata": {},
     "output_type": "execute_result"
    }
   ],
   "source": [
    "from sklearn.utils.extmath import randomized_svd\n",
    "\n",
    "U, Sigma, VT = randomized_svd(ratings, n_components=2, n_iter=5, random_state=1234)\n",
    "\n",
    "display(U, Sigma, VT)\n",
    "\n",
    "# @ = matrix multiplication\n",
    "U @ np.diag(Sigma) @ VT"
   ]
  },
  {
   "cell_type": "code",
   "execution_count": 92,
   "metadata": {},
   "outputs": [
    {
     "data": {
      "text/plain": [
       "array([[ 3.,  4.,  3.,  1.],\n",
       "       [ 1.,  3.,  2.,  6.],\n",
       "       [ 2.,  4.,  1.,  5.],\n",
       "       [ 3.,  3.,  5.,  2.]])"
      ]
     },
     "execution_count": 92,
     "metadata": {},
     "output_type": "execute_result"
    }
   ],
   "source": []
  },
  {
   "cell_type": "code",
   "execution_count": 9,
   "metadata": {},
   "outputs": [
    {
     "data": {
      "text/plain": [
       "TruncatedSVD(algorithm='randomized', n_components=2, n_iter=5,\n",
       "       random_state=1234, tol=0.0)"
      ]
     },
     "execution_count": 9,
     "metadata": {},
     "output_type": "execute_result"
    }
   ],
   "source": [
    "from sklearn.decomposition import TruncatedSVD\n",
    "svd = TruncatedSVD(n_components=2, n_iter=5, random_state=1234)\n",
    "svd.fit(ratings)  "
   ]
  },
  {
   "cell_type": "code",
   "execution_count": 10,
   "metadata": {},
   "outputs": [
    {
     "data": {
      "text/plain": [
       "array([[-0.35356875,  0.52052937,  0.56975326, -0.30493031, -0.43178356],\n",
       "       [-0.40446482,  0.4791903 , -0.49736385,  0.57881237, -0.156174  ]])"
      ]
     },
     "execution_count": 10,
     "metadata": {},
     "output_type": "execute_result"
    }
   ],
   "source": [
    "svd.components_"
   ]
  },
  {
   "cell_type": "code",
   "execution_count": 11,
   "metadata": {},
   "outputs": [
    {
     "data": {
      "text/plain": [
       "array([4.9988044 , 2.59007561])"
      ]
     },
     "execution_count": 11,
     "metadata": {},
     "output_type": "execute_result"
    }
   ],
   "source": [
    "svd.singular_values_"
   ]
  },
  {
   "cell_type": "code",
   "execution_count": 19,
   "metadata": {},
   "outputs": [
    {
     "data": {
      "text/plain": [
       "array([4.9988044 , 2.59007561])"
      ]
     },
     "execution_count": 19,
     "metadata": {},
     "output_type": "execute_result"
    }
   ],
   "source": [
    "svd.fit(cdf.to_sparse().to_coo())\n",
    "svd.singular_values_"
   ]
  },
  {
   "cell_type": "code",
   "execution_count": null,
   "metadata": {
    "collapsed": true
   },
   "outputs": [],
   "source": []
  }
 ],
 "metadata": {
  "kernelspec": {
   "display_name": "Python 3",
   "language": "python",
   "name": "python3"
  },
  "language_info": {
   "codemirror_mode": {
    "name": "ipython",
    "version": 3
   },
   "file_extension": ".py",
   "mimetype": "text/x-python",
   "name": "python",
   "nbconvert_exporter": "python",
   "pygments_lexer": "ipython3",
   "version": "3.6.4"
  }
 },
 "nbformat": 4,
 "nbformat_minor": 2
}
